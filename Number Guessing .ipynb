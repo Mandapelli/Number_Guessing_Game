{
 "cells": [
  {
   "cell_type": "code",
   "execution_count": 2,
   "id": "759fb768-0ab4-4660-a269-2de2a44baf61",
   "metadata": {},
   "outputs": [
    {
     "name": "stdin",
     "output_type": "stream",
     "text": [
      "enter a number between 1 to 100 50\n"
     ]
    },
    {
     "name": "stdout",
     "output_type": "stream",
     "text": [
      "increase the guess value\n"
     ]
    },
    {
     "name": "stdin",
     "output_type": "stream",
     "text": [
      "enter a number between 1 to 100 120\n"
     ]
    },
    {
     "name": "stdout",
     "output_type": "stream",
     "text": [
      "decrease the guess value\n"
     ]
    },
    {
     "name": "stdin",
     "output_type": "stream",
     "text": [
      "enter a number between 1 to 100 70\n"
     ]
    },
    {
     "name": "stdout",
     "output_type": "stream",
     "text": [
      " Congratulations! your guessed number is correct \n",
      "It took you 2 attempts.\n"
     ]
    }
   ],
   "source": [
    "number=70\n",
    "attempts=0\n",
    "while attempts>=0 :\n",
    "    guess_Number=int(input(\"enter a number between 1 to 100\"))\n",
    "    if guess_Number==number:\n",
    "        print(\" Congratulations! your guessed number is correct \")\n",
    "        print(f\"It took you {attempts} attempts.\")\n",
    "        break\n",
    "    elif guess_Number>number:\n",
    "        print(\"decrease the guess value\")\n",
    "    else:\n",
    "        print(\"increase the guess value\")\n",
    "        \n",
    "    attempts +=1\n",
    "    if attempts == 10:\n",
    "        print(\"your attempts is completed plz try again\")"
   ]
  }
 ],
 "metadata": {
  "kernelspec": {
   "display_name": "Python 3 (ipykernel)",
   "language": "python",
   "name": "python3"
  },
  "language_info": {
   "codemirror_mode": {
    "name": "ipython",
    "version": 3
   },
   "file_extension": ".py",
   "mimetype": "text/x-python",
   "name": "python",
   "nbconvert_exporter": "python",
   "pygments_lexer": "ipython3",
   "version": "3.12.4"
  }
 },
 "nbformat": 4,
 "nbformat_minor": 5
}
